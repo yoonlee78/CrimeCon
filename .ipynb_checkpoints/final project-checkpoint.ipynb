{
 "cells": [
  {
   "cell_type": "code",
   "execution_count": 13,
   "metadata": {},
   "outputs": [
    {
     "name": "stdout",
     "output_type": "stream",
     "text": [
      "{\"status\":\"OK\",\"meta\":{\"totalCount\":1,\"page\":1,\"count\":1},\"addresses\":[{\"roadAddress\":\"경기도 성남시 분당구 불정로 6 NAVER그린팩토리\",\"jibunAddress\":\"경기도 성남시 분당구 정자동 178-1 NAVER그린팩토리\",\"englishAddress\":\"6, Buljeong-ro, Bundang-gu, Seongnam-si, Gyeonggi-do, Republic of Korea\",\"addressElements\":[{\"types\":[\"SIDO\"],\"longName\":\"경기도\",\"shortName\":\"경기도\",\"code\":\"\"},{\"types\":[\"SIGUGUN\"],\"longName\":\"성남시 분당구\",\"shortName\":\"성남시 분당구\",\"code\":\"\"},{\"types\":[\"DONGMYUN\"],\"longName\":\"정자동\",\"shortName\":\"정자동\",\"code\":\"\"},{\"types\":[\"RI\"],\"longName\":\"\",\"shortName\":\"\",\"code\":\"\"},{\"types\":[\"ROAD_NAME\"],\"longName\":\"불정로\",\"shortName\":\"불정로\",\"code\":\"\"},{\"types\":[\"BUILDING_NUMBER\"],\"longName\":\"6\",\"shortName\":\"6\",\"code\":\"\"},{\"types\":[\"BUILDING_NAME\"],\"longName\":\"NAVER그린팩토리\",\"shortName\":\"NAVER그린팩토리\",\"code\":\"\"},{\"types\":[\"LAND_NUMBER\"],\"longName\":\"178-1\",\"shortName\":\"178-1\",\"code\":\"\"},{\"types\":[\"POSTAL_CODE\"],\"longName\":\"13561\",\"shortName\":\"13561\",\"code\":\"\"}],\"x\":\"127.1054065\",\"y\":\"37.3595669\",\"distance\":0.0}],\"errorMessage\":\"\"}\n"
     ]
    }
   ],
   "source": [
    "import os\n",
    "import sys\n",
    "import urllib.request\n",
    "\n",
    "client_id = \"p38mf5wzi2\"\n",
    "client_secret = \"syTseGYYymS4mJReEw3o96N7c5d0m8TpgesmqqZC\"\n",
    "encText = urllib.parse.quote(\"불정로 6\")\n",
    "# url = \"https://naveropenapi.apigw.ntruss.com/map-static/v2/raster?query=\" + encText\n",
    "url = \"https://naveropenapi.apigw.ntruss.com/map-geocode/v2/geocode?query=\" + encText # json 결과\n",
    "# url = \"https://openapi.naver.com/v1/map/geocode.xml?query=\" + encText # xml 결과\n",
    "request = urllib.request.Request(url)\n",
    "request.add_header(\"X-NCP-APIGW-API-KEY-ID\",client_id)\n",
    "request.add_header(\"X-NCP-APIGW-API-KEY\",client_secret)\n",
    "\n",
    "# type(request)\n",
    "response = urllib.request.urlopen(request)\n",
    "\n",
    "rescode = response.getcode()\n",
    "if(rescode==200):\n",
    "    response_body = response.read()\n",
    "    print(response_body.decode('utf-8'))\n",
    "else:\n",
    "    print(\"Error Code:\" + rescode)"
   ]
  },
  {
   "cell_type": "code",
   "execution_count": 52,
   "metadata": {},
   "outputs": [
    {
     "name": "stdout",
     "output_type": "stream",
     "text": [
      "https://dapi.kakao.com/v2/local/search/adress.json?query=%EC%A0%84%EB%B6%81%20%EC%82%BC%EC%84%B1%EB%8F%99%20100\n",
      "HTTP Error 404: Not Found\n"
     ]
    }
   ],
   "source": [
    "import urllib.request\n",
    "import urllib.parse\n",
    "import json\n",
    "import requests\n",
    "from flask import Flask, render_template, redirect, url_for, request\n",
    "\n",
    "access_token = \"UmMj1L5CkTySzEL_aAnD55WavS0Aj9IY359jcAorDKYAAAFrVNR2JQ\"\n",
    "\n",
    "# app = Flask(__name__)\n",
    "\n",
    "# @app.route('/')\n",
    "# def index():\n",
    "#     return render_template(\"index.html\")\n",
    "\n",
    "# @app.route('/oauth')\n",
    "# def oauth():\n",
    "#     code = str(request.args.get('code'))\n",
    "#     url = \"http://kauth.kakao.com/oauth/token\"\n",
    "#     payload = \"grant_type=authorization_code&client_id=d42f3703011e33a96a2875bb71a2f329&redirect_uri=http://127.0.0.1/oauth&code=\" + str(code)\n",
    "#     headers = {\n",
    "#         'Content-Type' : \"application/x-www-form-urlencoded\",\n",
    "#         'Cache-Control' : \"no-cache\"\n",
    "#         }\n",
    "#     response =requests.request(\"POST\", ulr, data=payload, headers=headers)\n",
    "#     access_token = json.loads(((response.text).encode('utf-8')))[\"access_token\"]\n",
    "#     url = \"https://kapi.kakao.com/v1/user/signup\"\n",
    "#     headers.update({\"Authoriztion\" : \"Bearer\" + str(access_token)})\n",
    "#     response = requests.request(\"POST\", url, headers=headers)\n",
    "    \n",
    "#     url = \"https://kapi.kakao.com/v1/user/me\"\n",
    "#     response = requests.request(\"POST\", url, headers=headers)\n",
    "#     return (response.text)\n",
    "\n",
    "\n",
    "# requests.post('https://kauth.kakao.com/oauth/token', {'grant_type': 'authorization_code', \"client_id\":발급받은아이디, \"redirect_uri\":서버의callbackUri, \"code\":code, \"state\":랜덤값})\n",
    "\n",
    "\n",
    "\n",
    "\n",
    "\n",
    "api_key = \"d42f3703011e33a96a2875bb71a2f329\"\n",
    "node = \"https://dapi.kakao.com/v2/local/search/adress.json?query=\"\n",
    "name = \"전북 삼성동 100\"\n",
    "query = urllib.parse.quote(name.encode('utf-8'))\n",
    "sss = node + str(query)\n",
    "print(sss)\n",
    "request = urllib.request.Request(sss)\n",
    "# request.add_header(“KakaoAK”, app_key)\n",
    "request.add_header(\"Authorization\", \"KakaoAK\" + api_key)\n",
    "try:\n",
    "    response = urllib.request.urlopen(request)\n",
    "    if response.getcode() == 200:\n",
    "        print(\"yes\")\n",
    "except Exception as e:\n",
    "    print(e)"
   ]
  },
  {
   "cell_type": "code",
   "execution_count": null,
   "metadata": {},
   "outputs": [],
   "source": []
  }
 ],
 "metadata": {
  "kernelspec": {
   "display_name": "Python 3",
   "language": "python",
   "name": "python3"
  },
  "language_info": {
   "codemirror_mode": {
    "name": "ipython",
    "version": 3
   },
   "file_extension": ".py",
   "mimetype": "text/x-python",
   "name": "python",
   "nbconvert_exporter": "python",
   "pygments_lexer": "ipython3",
   "version": "3.7.1"
  }
 },
 "nbformat": 4,
 "nbformat_minor": 2
}
